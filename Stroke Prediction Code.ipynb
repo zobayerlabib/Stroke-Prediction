{
  "nbformat": 4,
  "nbformat_minor": 0,
  "metadata": {
    "colab": {
      "provenance": []
    },
    "kernelspec": {
      "name": "python3",
      "display_name": "Python 3"
    },
    "language_info": {
      "name": "python"
    }
  },
  "cells": [
    {
      "cell_type": "markdown",
      "source": [],
      "metadata": {
        "id": "Jbk12PRFD4XI"
      }
    },
    {
      "cell_type": "markdown",
      "source": [
        "# **CSCI 4341 – Big Data Analytics Assignment**\n",
        "\n",
        "##**Name: Zobayer Md Ahsanul Mahbub**\n",
        "\n",
        "##**Matric No:2125129**\n",
        "\n",
        "Email ID: zobayerlabib9671@gmail.com  \n",
        "Dataset Used: Stroke Prediction Dataset  \n",
        "Submission Date:June 18, 2025"
      ],
      "metadata": {
        "id": "8A-MSM41Ed9D"
      }
    },
    {
      "cell_type": "code",
      "execution_count": 1,
      "metadata": {
        "id": "Gwwrc7yUvII6",
        "colab": {
          "base_uri": "https://localhost:8080/"
        },
        "outputId": "a0656d31-550d-4c26-bbdf-ec6ae5387722"
      },
      "outputs": [
        {
          "output_type": "stream",
          "name": "stdout",
          "text": [
            "Mounted at /content/drive\n"
          ]
        }
      ],
      "source": [
        "from google.colab import drive\n",
        "drive.mount('/content/drive')\n",
        "import pandas as pd\n",
        "\n",
        "df = pd.read_csv('/content/drive/MyDrive/healthcare-dataset-stroke-data.csv')\n"
      ]
    },
    {
      "cell_type": "code",
      "source": [
        "import pandas as pd\n",
        "import numpy as np\n",
        "import matplotlib.pyplot as plt\n",
        "import seaborn as sns\n",
        "df.info()\n",
        "df.describe()\n",
        "df.isnull().sum()\n",
        "df['gender'].value_counts()"
      ],
      "metadata": {
        "colab": {
          "base_uri": "https://localhost:8080/",
          "height": 539
        },
        "id": "O8Fx8xzNEDOj",
        "outputId": "b75449a8-2126-45d4-cb11-be96d2215595"
      },
      "execution_count": 2,
      "outputs": [
        {
          "output_type": "stream",
          "name": "stdout",
          "text": [
            "<class 'pandas.core.frame.DataFrame'>\n",
            "RangeIndex: 5110 entries, 0 to 5109\n",
            "Data columns (total 12 columns):\n",
            " #   Column             Non-Null Count  Dtype  \n",
            "---  ------             --------------  -----  \n",
            " 0   id                 5110 non-null   int64  \n",
            " 1   gender             5110 non-null   object \n",
            " 2   age                5110 non-null   float64\n",
            " 3   hypertension       5110 non-null   int64  \n",
            " 4   heart_disease      5110 non-null   int64  \n",
            " 5   ever_married       5110 non-null   object \n",
            " 6   work_type          5110 non-null   object \n",
            " 7   Residence_type     5110 non-null   object \n",
            " 8   avg_glucose_level  5110 non-null   float64\n",
            " 9   bmi                4909 non-null   float64\n",
            " 10  smoking_status     5110 non-null   object \n",
            " 11  stroke             5110 non-null   int64  \n",
            "dtypes: float64(3), int64(4), object(5)\n",
            "memory usage: 479.2+ KB\n"
          ]
        },
        {
          "output_type": "execute_result",
          "data": {
            "text/plain": [
              "gender\n",
              "Female    2994\n",
              "Male      2115\n",
              "Other        1\n",
              "Name: count, dtype: int64"
            ],
            "text/html": [
              "<div>\n",
              "<style scoped>\n",
              "    .dataframe tbody tr th:only-of-type {\n",
              "        vertical-align: middle;\n",
              "    }\n",
              "\n",
              "    .dataframe tbody tr th {\n",
              "        vertical-align: top;\n",
              "    }\n",
              "\n",
              "    .dataframe thead th {\n",
              "        text-align: right;\n",
              "    }\n",
              "</style>\n",
              "<table border=\"1\" class=\"dataframe\">\n",
              "  <thead>\n",
              "    <tr style=\"text-align: right;\">\n",
              "      <th></th>\n",
              "      <th>count</th>\n",
              "    </tr>\n",
              "    <tr>\n",
              "      <th>gender</th>\n",
              "      <th></th>\n",
              "    </tr>\n",
              "  </thead>\n",
              "  <tbody>\n",
              "    <tr>\n",
              "      <th>Female</th>\n",
              "      <td>2994</td>\n",
              "    </tr>\n",
              "    <tr>\n",
              "      <th>Male</th>\n",
              "      <td>2115</td>\n",
              "    </tr>\n",
              "    <tr>\n",
              "      <th>Other</th>\n",
              "      <td>1</td>\n",
              "    </tr>\n",
              "  </tbody>\n",
              "</table>\n",
              "</div><br><label><b>dtype:</b> int64</label>"
            ]
          },
          "metadata": {},
          "execution_count": 2
        }
      ]
    },
    {
      "cell_type": "code",
      "source": [
        "#drop id column because it is just a serial number\n",
        "df.drop(columns=['id'], inplace=True)"
      ],
      "metadata": {
        "id": "bmp5fcPjnxZY"
      },
      "execution_count": 3,
      "outputs": []
    },
    {
      "cell_type": "code",
      "source": [
        "#drop the row which mentioned other\n",
        "df = df[df['gender'] != 'Other']"
      ],
      "metadata": {
        "id": "-kocdzI5EsAQ"
      },
      "execution_count": 4,
      "outputs": []
    },
    {
      "cell_type": "code",
      "source": [
        "#Fill missing bmi with median value\n",
        "df['bmi'] = df['bmi'].fillna(df['bmi'].median())\n",
        "# Confirm cleaning\n",
        "print(df.info())\n",
        "df['gender'].value_counts()"
      ],
      "metadata": {
        "colab": {
          "base_uri": "https://localhost:8080/",
          "height": 508
        },
        "id": "5VfvBCTOC4zb",
        "outputId": "4fdbfeba-b925-462e-9de6-05590a957028"
      },
      "execution_count": 5,
      "outputs": [
        {
          "output_type": "stream",
          "name": "stdout",
          "text": [
            "<class 'pandas.core.frame.DataFrame'>\n",
            "Index: 5109 entries, 0 to 5109\n",
            "Data columns (total 11 columns):\n",
            " #   Column             Non-Null Count  Dtype  \n",
            "---  ------             --------------  -----  \n",
            " 0   gender             5109 non-null   object \n",
            " 1   age                5109 non-null   float64\n",
            " 2   hypertension       5109 non-null   int64  \n",
            " 3   heart_disease      5109 non-null   int64  \n",
            " 4   ever_married       5109 non-null   object \n",
            " 5   work_type          5109 non-null   object \n",
            " 6   Residence_type     5109 non-null   object \n",
            " 7   avg_glucose_level  5109 non-null   float64\n",
            " 8   bmi                5109 non-null   float64\n",
            " 9   smoking_status     5109 non-null   object \n",
            " 10  stroke             5109 non-null   int64  \n",
            "dtypes: float64(3), int64(3), object(5)\n",
            "memory usage: 479.0+ KB\n",
            "None\n"
          ]
        },
        {
          "output_type": "execute_result",
          "data": {
            "text/plain": [
              "gender\n",
              "Female    2994\n",
              "Male      2115\n",
              "Name: count, dtype: int64"
            ],
            "text/html": [
              "<div>\n",
              "<style scoped>\n",
              "    .dataframe tbody tr th:only-of-type {\n",
              "        vertical-align: middle;\n",
              "    }\n",
              "\n",
              "    .dataframe tbody tr th {\n",
              "        vertical-align: top;\n",
              "    }\n",
              "\n",
              "    .dataframe thead th {\n",
              "        text-align: right;\n",
              "    }\n",
              "</style>\n",
              "<table border=\"1\" class=\"dataframe\">\n",
              "  <thead>\n",
              "    <tr style=\"text-align: right;\">\n",
              "      <th></th>\n",
              "      <th>count</th>\n",
              "    </tr>\n",
              "    <tr>\n",
              "      <th>gender</th>\n",
              "      <th></th>\n",
              "    </tr>\n",
              "  </thead>\n",
              "  <tbody>\n",
              "    <tr>\n",
              "      <th>Female</th>\n",
              "      <td>2994</td>\n",
              "    </tr>\n",
              "    <tr>\n",
              "      <th>Male</th>\n",
              "      <td>2115</td>\n",
              "    </tr>\n",
              "  </tbody>\n",
              "</table>\n",
              "</div><br><label><b>dtype:</b> int64</label>"
            ]
          },
          "metadata": {},
          "execution_count": 5
        }
      ]
    },
    {
      "cell_type": "markdown",
      "source": [
        "**Business Case**\n",
        "\n",
        "Stroke is one of the main causes of disability and death worldwide. However, early identification of risk factors such as age, heart disease, hypertension, lifestyle habits, and glucose levels can play a crucial role to prevent stroke.\n",
        "\n",
        "This analysis utilizes a healthcare dataset to identify patterns, make predictions, and suggest treatments that may reduce the risk of stroke. Especially, we want to identify high-risk groups. The analysis is designed to help Healthcare providers and policymakers make data-driven decisions.\n"
      ],
      "metadata": {
        "id": "8H5kDg8OzVki"
      }
    },
    {
      "cell_type": "markdown",
      "source": [
        "**Data Science Questions**\n",
        "\n",
        "1. Is smoking status associated with stroke occurrence? *(Inferential – 2 variables)*\n",
        "2. Do the people with heart disease have a higher risk of stroke? *(Diagnostic – 2 variables)*\n",
        "3. Is stroke rate significantly different between genders? *(Inferential – 2 variables)*\n",
        "4. Can we predict stroke possibility based on age, hypertension, and glucose level? *(Predictive >2 variables)*\n",
        "5. How do age, BMI, and marital status interact to affect stroke risk in rural areas? *(Exploratory >2 variables)*\n",
        "6. If we lowered blood sugar levels by 10% in people at high risk, how much could it reduce their chances of having a stroke? *(Prescriptive >2 variables)*\n",
        "7. After controlling for age and glucose, what is the causal impact of high BMI on stroke? *(Causal >2 variables)*\n",
        "8. Can stroke patients be clustered into meaningful groups based on lifestyle and health factors? *(Exploratory >2 variables)*\n"
      ],
      "metadata": {
        "id": "Bn-jVuFW0Eje"
      }
    },
    {
      "cell_type": "markdown",
      "source": [],
      "metadata": {
        "id": "hmHCFLz0ApmG"
      }
    },
    {
      "cell_type": "markdown",
      "source": [
        "##**DSQ-1: Is smoking status associated with stroke occurrence?**\n",
        "*   Type: Inferential Analysis\n",
        "*   Variables Used: smoking_status, stroke\n",
        "*   Method: Chi-Square Test of Independence"
      ],
      "metadata": {
        "id": "xzKeZR2nKH-a"
      }
    },
    {
      "cell_type": "code",
      "source": [
        "#DSQ-1: Is smoking status associated with stroke occurrence? (Inferential – 2 variables (smoking_status, stroke))\n",
        "import pandas as pd\n",
        "from scipy.stats import chi2_contingency\n",
        "import seaborn as sns\n",
        "import matplotlib.pyplot as plt\n",
        "\n",
        "# Create a contingency table\n",
        "contingency_table = pd.crosstab(df['smoking_status'], df['stroke'])\n",
        "\n",
        "print(\"Contingency Table:\")\n",
        "print(contingency_table)\n",
        "\n",
        "# Chi-square test\n",
        "chi2, p, dof, expected = chi2_contingency(contingency_table)\n",
        "\n",
        "print(f\"\\nChi-square statistic = {chi2:.4f}\")\n",
        "print(f\"Degrees of freedom = {dof}\")\n",
        "print(f\"P-value = {p}\")\n",
        "\n",
        "# Interpret the result\n",
        "if p < 0.05:\n",
        "    print(\"There is a significant association between smoking status and stroke.\")\n",
        "else:\n",
        "    print(\"There is no significant association between smoking status and stroke.\")\n",
        "\n",
        "\n",
        "#Visualization\n",
        "sns.countplot(data=df, x='smoking_status', hue='stroke')\n",
        "plt.title('Stroke Occurrence by Smoking Status')\n",
        "plt.xlabel('Smoking Status')\n",
        "plt.ylabel('Count')\n",
        "plt.legend(title='Stroke')\n",
        "plt.xticks(rotation=15)\n",
        "plt.tight_layout()\n",
        "plt.show()\n"
      ],
      "metadata": {
        "colab": {
          "base_uri": "https://localhost:8080/",
          "height": 695
        },
        "id": "ivpGxeLf0964",
        "outputId": "882597d2-bb9e-4c04-90fe-f751833d1772"
      },
      "execution_count": null,
      "outputs": [
        {
          "output_type": "stream",
          "name": "stdout",
          "text": [
            "Contingency Table:\n",
            "stroke              0   1\n",
            "smoking_status           \n",
            "Unknown          1497  47\n",
            "formerly smoked   814  70\n",
            "never smoked     1802  90\n",
            "smokes            747  42\n",
            "\n",
            "Chi-square statistic = 29.2257\n",
            "Degrees of freedom = 3\n",
            "P-value = 2.0077041756108317e-06\n",
            "There is a significant association between smoking status and stroke.\n"
          ]
        },
        {
          "output_type": "display_data",
          "data": {
            "text/plain": [
              "<Figure size 640x480 with 1 Axes>"
            ],
            "image/png": "[encoded data removed]"
          },
          "metadata": {}
        }
      ]
    },
    {
      "cell_type": "markdown",
      "source": [
        "Chi-square statistic = 29.2257\n",
        "Degrees of freedom = 3\n",
        "P-value = 2.0077041756108317e-06\n",
        "**There is a significant association between smoking status and stroke.**"
      ],
      "metadata": {
        "id": "mvRBcR1mlx4D"
      }
    },
    {
      "cell_type": "markdown",
      "source": [
        "## **DSQ-2: Do people with heart disease have a higher likelihood of stroke?**\n",
        "*   Type: Diagnostic Analysis\n",
        "*   Variables Used: heart_disease, stroke\n",
        "*   Method: Chi-Square Test of Independence"
      ],
      "metadata": {
        "id": "97y6b2U9g2Uu"
      }
    },
    {
      "cell_type": "code",
      "source": [
        "#DSQ-2: Do people with heart disease have a higher likelihood of stroke?\n",
        "\n",
        "#contingency table\n",
        "contingency_table= pd.crosstab(df['heart_disease'], df['stroke'])\n",
        "\n",
        "print(\"Contingency Table:\")\n",
        "print(contingency_table)\n",
        "\n",
        "#Chi-square test\n",
        "chi2, p, dof, expected = chi2_contingency(contingency_table)\n",
        "\n",
        "print(f\"\\nChi-square statistic = {chi2:.4f}\")\n",
        "print(f\"Degrees of freedom = {dof}\")\n",
        "print(f\"P-value = {p:.2e}\")\n",
        "\n",
        "# Interpret the result\n",
        "if p < 0.05:\n",
        "    print(\"There is a significant association between heart disease and stroke.\")\n",
        "else:\n",
        "    print(\"There is no significant association between heart disease and stroke.\")\n",
        "\n",
        "# Visualization\n",
        "sns.countplot(data=df,x='heart_disease', hue='stroke')\n",
        "plt.title('Stroke Occurrence by Heart Disease Status')\n",
        "plt.xlabel('Heart Disease (0 = No, 1 = Yes)')\n",
        "plt.ylabel('Count')\n",
        "plt.legend(title='Stroke')\n",
        "plt.show()\n"
      ],
      "metadata": {
        "id": "M6Gi477KJTof",
        "colab": {
          "base_uri": "https://localhost:8080/",
          "height": 646
        },
        "outputId": "1faaa125-5339-4aac-adf7-04667b80d45c"
      },
      "execution_count": null,
      "outputs": [
        {
          "output_type": "stream",
          "name": "stdout",
          "text": [
            "Contingency Table:\n",
            "stroke            0    1\n",
            "heart_disease           \n",
            "0              4631  202\n",
            "1               229   47\n",
            "\n",
            "Chi-square statistic = 90.2294\n",
            "Degrees of freedom = 1\n",
            "P-value = 2.12e-21\n",
            "There is a significant association between heart disease and stroke.\n"
          ]
        },
        {
          "output_type": "display_data",
          "data": {
            "text/plain": [
              "<Figure size 640x480 with 1 Axes>"
            ],
            "image/png": "[encoded data removed]"
          },
          "metadata": {}
        }
      ]
    },
    {
      "cell_type": "markdown",
      "source": [
        "Chi-square statistic = 90.2294\n",
        "Degrees of freedom = 1\n",
        "P-value = 2.12e-21\n",
        "**There is a significant association between heart disease and stroke.**"
      ],
      "metadata": {
        "id": "e7fumM2mlmz9"
      }
    },
    {
      "cell_type": "markdown",
      "source": [
        "##**DSQ-3: Is stroke occurrence significantly different between genders?**\n",
        "\n",
        "* Type: Inferential Analysis\n",
        "* Variables Used: gender, stroke\n",
        "* Method: Chi-Square Test of Independence"
      ],
      "metadata": {
        "id": "HjFDCpujlPCG"
      }
    },
    {
      "cell_type": "code",
      "source": [
        "#DSQ-3: Is stroke occurrence significantly different between genders?\n",
        "# Contingency table create\n",
        "contingency_table = pd.crosstab(df['gender'], df['stroke'])\n",
        "\n",
        "print(\"Contingency Table:\")\n",
        "print(contingency_table)\n",
        "\n",
        "#Chi-square test\n",
        "from scipy.stats import chi2_contingency\n",
        "chi2,p, dof,expected =chi2_contingency(contingency_table)\n",
        "\n",
        "print(f\"\\nChi-square statistic = {chi2:.4f}\")\n",
        "print(f\"Degrees of freedom = {dof}\")\n",
        "print(f\"P-value = {p: .5f}\")\n",
        "\n",
        "#Interpretation\n",
        "if p < 0.05:\n",
        "    print(\"There is a significant association between gender and stroke.\")\n",
        "else:\n",
        "    print(\"There is no significant association between gender and stroke.\")\n",
        "\n",
        "# Visualization\n",
        "sns.countplot(data=df,x='gender',hue='stroke')\n",
        "plt.title('Stroke Occurrence by Gender')\n",
        "plt.xlabel('Gender')\n",
        "plt.ylabel('Count')\n",
        "plt.legend(title='Stroke')\n",
        "plt.show()\n"
      ],
      "metadata": {
        "colab": {
          "base_uri": "https://localhost:8080/",
          "height": 646
        },
        "id": "LZL7ilYplKCF",
        "outputId": "51da12bb-4aef-48da-fc2e-d451b367bdf9"
      },
      "execution_count": 27,
      "outputs": [
        {
          "output_type": "stream",
          "name": "stdout",
          "text": [
            "Contingency Table:\n",
            "stroke     0    1\n",
            "gender           \n",
            "Female  2853  141\n",
            "Male    2007  108\n",
            "\n",
            "Chi-square statistic = 0.3400\n",
            "Degrees of freedom = 1\n",
            "P-value =  0.55983\n",
            "There is no significant association between gender and stroke.\n"
          ]
        },
        {
          "output_type": "display_data",
          "data": {
            "text/plain": [
              "<Figure size 640x480 with 1 Axes>"
            ],
            "image/png": "[encoded data removed]"
          },
          "metadata": {}
        }
      ]
    },
    {
      "cell_type": "markdown",
      "source": [
        "Chi-square statistic = 0.3400\n",
        "Degrees of freedom = 1\n",
        "P-value =  0.55983\n",
        "**There is no significant association between gender and stroke.**"
      ],
      "metadata": {
        "id": "7JQLFVHkmof9"
      }
    },
    {
      "cell_type": "markdown",
      "source": [
        "## **DSQ-4: Can we predict stroke possibility based on age, hypertension, and glucose level?**\n",
        "\n",
        "* Type: Predictive Analysis\n",
        "* Variables Used: age, hypertension, avg_glucose_level, stroke\n",
        "* Method: Build a classification model (Here we are using logistic regression) to predict stroke.\n"
      ],
      "metadata": {
        "id": "YlrMpVTlm8RU"
      }
    },
    {
      "cell_type": "code",
      "source": [
        "#DSQ-4: Can we predict stroke possibility based on age, hypertension, and glucose level?\n",
        "from sklearn.model_selection import train_test_split\n",
        "from sklearn.linear_model import LogisticRegression\n",
        "from sklearn.metrics import classification_report, confusion_matrix, accuracy_score\n",
        "\n",
        "#Selecting features and target\n",
        "X = df[['age', 'hypertension', 'avg_glucose_level']]\n",
        "y = df['stroke']\n",
        "\n",
        "#Train-test spliting\n",
        "X_train, X_test, y_train, y_test = train_test_split(X, y, test_size=0.2, random_state=42)\n"
      ],
      "metadata": {
        "id": "qIp7nKGzoFid"
      },
      "execution_count": 6,
      "outputs": []
    },
    {
      "cell_type": "code",
      "source": [
        "#logistic regression model building\n",
        "model = LogisticRegression(max_iter=1000)\n",
        "model.fit(X_train, y_train)\n",
        "\n",
        "#Predict\n",
        "y_pred =model.predict(X_test)"
      ],
      "metadata": {
        "id": "tzV257bCSMnw"
      },
      "execution_count": 7,
      "outputs": []
    },
    {
      "cell_type": "code",
      "source": [
        "from sklearn.metrics import confusion_matrix, classification_report, accuracy_score\n",
        "\n",
        "# Confusion matrix and performance report\n",
        "print(\"Confusion Matrix:\\n\", confusion_matrix(y_test, y_pred))\n",
        "print(\"\\nClassification Report:\\n\", classification_report(y_test, y_pred, zero_division=0))\n",
        "print(\"Accuracy Score:\", accuracy_score(y_test, y_pred))\n",
        "# Coefficients\n",
        "coef_df = pd.DataFrame({\n",
        "    'Feature': X.columns,\n",
        "    'Coefficient': model.coef_[0]})\n",
        "print(coef_df)\n",
        "\n"
      ],
      "metadata": {
        "colab": {
          "base_uri": "https://localhost:8080/"
        },
        "id": "f-lVjSY3SoAg",
        "outputId": "1b6c3895-45d8-4808-f9ff-b65beaa51dae"
      },
      "execution_count": 10,
      "outputs": [
        {
          "output_type": "stream",
          "name": "stdout",
          "text": [
            "Confusion Matrix:\n",
            " [[960   0]\n",
            " [ 62   0]]\n",
            "\n",
            "Classification Report:\n",
            "               precision    recall  f1-score   support\n",
            "\n",
            "           0       0.94      1.00      0.97       960\n",
            "           1       0.00      0.00      0.00        62\n",
            "\n",
            "    accuracy                           0.94      1022\n",
            "   macro avg       0.47      0.50      0.48      1022\n",
            "weighted avg       0.88      0.94      0.91      1022\n",
            "\n",
            "Accuracy Score: 0.9393346379647749\n",
            "             Feature  Coefficient\n",
            "0                age     0.070249\n",
            "1       hypertension     0.327151\n",
            "2  avg_glucose_level     0.004051\n"
          ]
        }
      ]
    },
    {
      "cell_type": "markdown",
      "source": [
        "The model predicted all samples as \"No Stroke\" (0). It missed every actual stroke case (62 false negatives). So, Precision, recall, and F1 for stroke = 0.00.\n",
        "This problem happend becasue of **class imbalance** problem. Only 5% case in the dataset is stroke prositive and rest negative.\n",
        "We can solve it by balancing the class."
      ],
      "metadata": {
        "id": "k72qwWUqUa6d"
      }
    },
    {
      "cell_type": "markdown",
      "source": [],
      "metadata": {
        "id": "2XiIeq3uVXIL"
      }
    },
    {
      "cell_type": "code",
      "source": [
        "from sklearn.linear_model import LogisticRegression\n",
        "from sklearn.model_selection import train_test_split\n",
        "from sklearn.metrics import classification_report, confusion_matrix, accuracy_score\n",
        "\n",
        "#Features and label\n",
        "X =df[['age', 'hypertension', 'avg_glucose_level']]\n",
        "y = df['stroke']\n",
        "\n",
        "#Train-test split\n",
        "X_train,X_test, y_train, y_test = train_test_split(X, y,test_size=0.2, random_state=42)\n",
        "\n",
        "#Use class balanced\n",
        "model = LogisticRegression(class_weight='balanced', max_iter=1000)\n",
        "model.fit(X_train, y_train)\n",
        "\n",
        "# Prediction\n",
        "y_pred= model.predict(X_test)\n",
        "\n",
        "#Evaluate the model\n",
        "print(\"Confusion Matrix:\\n\",confusion_matrix(y_test, y_pred))\n",
        "print(\"\\nClassification Report:\\n\", classification_report(y_test, y_pred))\n",
        "print(\"Accuracy Score:\",accuracy_score(y_test, y_pred))\n",
        "\n",
        "# display feature coefficients\n",
        "coef_df = pd.DataFrame({\n",
        "    'Feature': X.columns,\n",
        "    'Coefficient': model.coef_[0]})\n",
        "print(\"\\nFeature Importance:\")\n",
        "print(coef_df)\n"
      ],
      "metadata": {
        "colab": {
          "base_uri": "https://localhost:8080/"
        },
        "id": "AYVviwZFUafT",
        "outputId": "990116bb-d188-4d81-b354-94c167f1b6ee"
      },
      "execution_count": 12,
      "outputs": [
        {
          "output_type": "stream",
          "name": "stdout",
          "text": [
            "Confusion Matrix:\n",
            " [[701 259]\n",
            " [ 15  47]]\n",
            "\n",
            "Classification Report:\n",
            "               precision    recall  f1-score   support\n",
            "\n",
            "           0       0.98      0.73      0.84       960\n",
            "           1       0.15      0.76      0.26        62\n",
            "\n",
            "    accuracy                           0.73      1022\n",
            "   macro avg       0.57      0.74      0.55      1022\n",
            "weighted avg       0.93      0.73      0.80      1022\n",
            "\n",
            "Accuracy Score: 0.7318982387475538\n",
            "\n",
            "Feature Importance:\n",
            "             Feature  Coefficient\n",
            "0                age     0.072483\n",
            "1       hypertension     0.472802\n",
            "2  avg_glucose_level     0.004792\n"
          ]
        }
      ]
    },
    {
      "cell_type": "markdown",
      "source": [
        "The model successfully detected 47 out of 62 stroke cases. It is an improvement compared to the previous result because previously it predicted 0 cases. Based on the result **Hypertension** has the strongest connection among the three features. To avoid missing true cases we focused on recall  than overall accuracy."
      ],
      "metadata": {
        "id": "NrwLgyJtWWcX"
      }
    },
    {
      "cell_type": "markdown",
      "source": [
        "##**DSQ-5: How do age, BMI, and marital status affect stroke in rural areas?**\n",
        "\n",
        "\n",
        "*  Type: Diagnostic Analysis\n",
        "*  Variables Used: age, bmi, ever_married, Residence_type, stroke\n",
        "*  Filtered By: Residence_type = Rural"
      ],
      "metadata": {
        "id": "AN-8zE4oZnyr"
      }
    },
    {
      "cell_type": "code",
      "source": [
        "import pandas as pd\n",
        "import seaborn as sns\n",
        "import matplotlib.pyplot as plt\n",
        "\n",
        "#filter for Rural residents\n",
        "rural_df = df[df['Residence_type'] == 'Rural'].copy()\n",
        "print(f\"Rural population count: {len(rural_df)}\")\n",
        "\n",
        "#Handle missing BMI values\n",
        "rural_df['bmi'] = rural_df['bmi'].fillna(rural_df['bmi'].median())\n",
        "\n",
        "#Create BMI and Age Groups\n",
        "rural_df['bmi_group'] = pd.cut(rural_df['bmi'],\n",
        "                               bins=[0, 18.5, 24.9, 29.9, 100],\n",
        "                               labels=['Underweight', 'Normal', 'Overweight', 'Obese'])\n",
        "\n",
        "rural_df['age_group'] = pd.cut(rural_df['age'],\n",
        "                                bins=[0, 30, 50, 70, 100],\n",
        "                                labels=['Young', 'Middle-aged', 'Older', 'Elderly'])\n",
        "\n",
        "#grouping and stroke rate calculation\n",
        "stroke_summary = rural_df.groupby(\n",
        "    ['ever_married', 'bmi_group', 'age_group'],\n",
        "    observed=False)['stroke'].mean().reset_index()\n",
        "stroke_summary= stroke_summary.rename(columns={'stroke': 'Stroke Rate'})\n",
        "print(\"Grouped Stroke Rates:\")\n",
        "print(stroke_summary)\n",
        "\n",
        "# heatmap visualization (BMI vs Marital Status)\n",
        "pivot_table = rural_df.pivot_table(\n",
        "    values='stroke',\n",
        "    index='bmi_group',\n",
        "    columns='ever_married',\n",
        "    aggfunc='mean',\n",
        "    observed=False)\n",
        "sns.heatmap(pivot_table, annot=True, cmap='coolwarm')\n",
        "plt.title('Stroke Rate by BMI and Marital Status (Rural)')\n",
        "plt.ylabel('BMI Group')\n",
        "plt.xlabel('Marital Status')\n",
        "plt.show()\n"
      ],
      "metadata": {
        "colab": {
          "base_uri": "https://localhost:8080/",
          "height": 1000
        },
        "id": "CE0ih47bYwlL",
        "outputId": "2834cc99-719b-43a4-f15c-50398e8546a6"
      },
      "execution_count": 26,
      "outputs": [
        {
          "output_type": "stream",
          "name": "stdout",
          "text": [
            "Rural population count: 2513\n",
            "Grouped Stroke Rates:\n",
            "   ever_married    bmi_group    age_group  Stroke Rate\n",
            "0            No  Underweight        Young     0.000000\n",
            "1            No  Underweight  Middle-aged          NaN\n",
            "2            No  Underweight        Older     0.000000\n",
            "3            No  Underweight      Elderly          NaN\n",
            "4            No       Normal        Young     0.000000\n",
            "5            No       Normal  Middle-aged     0.000000\n",
            "6            No       Normal        Older     0.000000\n",
            "7            No       Normal      Elderly     0.200000\n",
            "8            No   Overweight        Young     0.000000\n",
            "9            No   Overweight  Middle-aged     0.000000\n",
            "10           No   Overweight        Older     0.000000\n",
            "11           No   Overweight      Elderly     0.250000\n",
            "12           No        Obese        Young     0.009804\n",
            "13           No        Obese  Middle-aged     0.017857\n",
            "14           No        Obese        Older     0.086957\n",
            "15           No        Obese      Elderly     0.076923\n",
            "16          Yes  Underweight        Young     0.000000\n",
            "17          Yes  Underweight  Middle-aged     0.000000\n",
            "18          Yes  Underweight        Older     0.000000\n",
            "19          Yes  Underweight      Elderly     0.142857\n",
            "20          Yes       Normal        Young     0.000000\n",
            "21          Yes       Normal  Middle-aged     0.000000\n",
            "22          Yes       Normal        Older     0.055556\n",
            "23          Yes       Normal      Elderly     0.210526\n",
            "24          Yes   Overweight        Young     0.000000\n",
            "25          Yes   Overweight  Middle-aged     0.019900\n",
            "26          Yes   Overweight        Older     0.087336\n",
            "27          Yes   Overweight      Elderly     0.158273\n",
            "28          Yes        Obese        Young     0.000000\n",
            "29          Yes        Obese  Middle-aged     0.021505\n",
            "30          Yes        Obese        Older     0.055233\n",
            "31          Yes        Obese      Elderly     0.174757\n"
          ]
        },
        {
          "output_type": "display_data",
          "data": {
            "text/plain": [
              "<Figure size 640x480 with 2 Axes>"
            ],
            "image/png": "[encoded data removed]"
          },
          "metadata": {}
        }
      ]
    },
    {
      "cell_type": "markdown",
      "source": [
        "**Methodology:**\n",
        "- Filtered the dataset to include only rural population (n = 2513).\n",
        "- Grouped individuals by:\n",
        "  - Age Group: Young, Middle-aged, Older, Elderly\n",
        "  - BMI Group: Underweight, Normal, Overweight and Obese\n",
        "  - Marital Status: Ever Married or Not Married\n",
        "- Calculated stroke rates in each subgroup.\n",
        "- Visualized the relationship between BMI group and marital status using a heatmap.\n",
        "\n",
        "**Key Observations:**\n",
        "\n",
        "**1. Marital Status Effect:**\n",
        "- Married individuals showed **higher stroke rates** in most BMI categories compared to unmarried individuals.\n",
        "- For example:\n",
        "  - Normal BMI & Married -> stroke rate = 0.058  \n",
        "  - Normal BMI & Unmarried -> stroke rate = 0.0032\n",
        "\n",
        "**2. BMI Effect:**\n",
        "- Among the married group:\n",
        "  - **Underweight (0.091)** and **Overweight (0.077)** individuals had the highest stroke rates.\n",
        "- Among the unmarried group:\n",
        "  - Stroke rate gradually increased from Normal (0.0032) to Obese (0.026)\n",
        "  - Underweight individuals had a stroke rate of **0%**\n",
        "\n",
        "**3. Age Effect (from grouped data):**\n",
        "- Stroke risk increases with age across all BMI groups.\n",
        "- Elderly and obese individuals had the highest stroke rates, particularly when they are married also.\n",
        "\n",
        "**Insights:**\n",
        "- Based on the findings, stroke prevention programs in rural areas should focus on:\n",
        "  - Elderly individuals\n",
        "  - Those with high BMI\n",
        "  - Perticularly married individuals with multiple risk factors\n",
        "- BMI and marital status may reflect a person's lifestyle or long-term health problems. Later that can lead to stroke.\n"
      ],
      "metadata": {
        "id": "A3re7TXZc91k"
      }
    },
    {
      "cell_type": "markdown",
      "source": [
        "##**DSQ-6: If we lowered blood sugar levels by 10% in people at high risk, how much could it reduce their chances of having a stroke?**\n",
        "- Type: Prescriptive Analysis\n",
        "- Variables Used: avg_glucose_level, age, hypertension, stroke\n",
        "- Filtered By: high risk = age > 60 and/or hypertension == 1"
      ],
      "metadata": {
        "id": "p0R5dNN6keUY"
      }
    },
    {
      "cell_type": "code",
      "source": [
        "# define high-risk group\n",
        "high_risk = df[(df['age'] > 60) | (df['hypertension'] == 1)].copy()\n",
        "\n",
        "# reduce avg_glucose_level by 10%\n",
        "high_risk['glucose_reduced'] = high_risk['avg_glucose_level'] * 0.9\n",
        "\n",
        "# Define X and y (before and after reduction)\n",
        "from sklearn.linear_model import LogisticRegression\n",
        "from sklearn.model_selection import train_test_split\n",
        "from sklearn.metrics import accuracy_score\n",
        "\n",
        "# Original\n",
        "X_orig = high_risk[['age', 'hypertension', 'avg_glucose_level']]\n",
        "y = high_risk['stroke']\n",
        "\n",
        "# Reduced glucose\n",
        "X_reduced = high_risk[['age', 'hypertension']].copy()\n",
        "X_reduced['avg_glucose_level'] = high_risk['glucose_reduced']\n",
        "\n",
        "# Train-test split\n",
        "X_train_o, X_test_o, y_train, y_test = train_test_split(X_orig, y, test_size=0.2, random_state=42)\n",
        "X_train_r, X_test_r = train_test_split(X_reduced, test_size=0.2, random_state=42)\n",
        "\n",
        "# Train model\n",
        "model = LogisticRegression(class_weight='balanced', max_iter=1000)\n",
        "model.fit(X_train_o, y_train)\n",
        "\n",
        "# Predict\n",
        "pred_orig = model.predict_proba(X_test_o)[:, 1]\n",
        "pred_reduced = model.predict_proba(X_test_r)[:, 1]\n",
        "\n",
        "# compare average predicted stroke probability\n",
        "import numpy as np\n",
        "print(\"Mean predicted stroke chance (Original):\", np.mean(pred_orig))\n",
        "print(\"Mean predicted stroke chance (After 10% glucose reduction):\", np.mean(pred_reduced))\n"
      ],
      "metadata": {
        "colab": {
          "base_uri": "https://localhost:8080/"
        },
        "id": "nXq7sNzplqRf",
        "outputId": "04c54978-fda2-4ea2-9c78-21eb853a142c"
      },
      "execution_count": 17,
      "outputs": [
        {
          "output_type": "stream",
          "name": "stdout",
          "text": [
            "Mean predicted stroke chance (Original): 0.46400936646838137\n",
            "Mean predicted stroke chance (After 10% glucose reduction): 0.4531540288201538\n"
          ]
        }
      ]
    },
    {
      "cell_type": "markdown",
      "source": [
        "**Insights:**\n",
        "For high-risk individuals (elderly or hypertensive), the average predicted stroke risk was:\n",
        "- Original: 46.4%\n",
        "- After 10% blood sugar reduction: 45.3%\n",
        "\n",
        "This shows that even small like 10% improvement in glucose control could slightly reduce the stroke risk by around 1.1%.\n",
        "\n",
        "In public health terms, this can lead to a significant reduction in the number of stroke cases if it applied across large populations.\n",
        "\n",
        "This type of analysis helps guide preventive strategies for stroke. Especially in diabetic or prediabetic elderly individuals."
      ],
      "metadata": {
        "id": "jpk9WTFSl9MX"
      }
    },
    {
      "cell_type": "markdown",
      "source": [
        "##**DSQ-7: After controlling for age and glucose, what is the causal impact of high BMI on stroke?**\n",
        "- Type: Causal Analysis\n",
        "- Variables Used: bmi, age, avg_glucose_level, stroke\n",
        "- Filtered/Transformed: Created high_bmi variable from bmi > 30"
      ],
      "metadata": {
        "id": "sI86L056nVNq"
      }
    },
    {
      "cell_type": "code",
      "source": [
        "#DSQ-7: After controlling for age and glucose, what is the causal impact of high BMI on stroke?\n",
        "#Create high_bmi flag\n",
        "df['high_bmi'] = (df['bmi'] > 30).astype(int)\n",
        "\n",
        "# Drop rows with missing BMI\n",
        "causal_df = df.dropna(subset=['bmi', 'age', 'avg_glucose_level'])\n",
        "\n",
        "# Define features and target\n",
        "X = causal_df[['high_bmi', 'age','avg_glucose_level']]\n",
        "y = causal_df['stroke']\n",
        "\n",
        "# Train-test split\n",
        "from sklearn.model_selection import train_test_split\n",
        "X_train, X_test, y_train, y_test =train_test_split(X, y, test_size=0.2, random_state=42)\n",
        "\n",
        "#Logistic regression model\n",
        "from sklearn.linear_model import LogisticRegression\n",
        "model = LogisticRegression(class_weight='balanced', max_iter=1000)\n",
        "model.fit(X_train, y_train)\n",
        "\n",
        "# Coefficients\n",
        "import pandas as pd\n",
        "coef_df = pd.DataFrame({'Feature': X.columns, 'Coefficient': model.coef_[0]})\n",
        "print(coef_df)\n",
        "\n",
        "# Stroke probabilities\n",
        "from sklearn.metrics import accuracy_score, confusion_matrix, classification_report\n",
        "y_pred = model.predict(X_test)\n",
        "print(\"\\nAccuracy:\", accuracy_score(y_test, y_pred))\n",
        "print(\"\\nConfusion Matrix:\\n\", confusion_matrix(y_test, y_pred))\n",
        "print(\"\\nClassification report:\\n\", classification_report(y_test, y_pred))\n",
        "\n"
      ],
      "metadata": {
        "colab": {
          "base_uri": "https://localhost:8080/"
        },
        "id": "8ktyZvWSn4aV",
        "outputId": "3a18a551-acf5-488c-bd25-5bf94c93b5e8"
      },
      "execution_count": 24,
      "outputs": [
        {
          "output_type": "stream",
          "name": "stdout",
          "text": [
            "             Feature  Coefficient\n",
            "0           high_bmi    -0.076977\n",
            "1                age     0.073842\n",
            "2  avg_glucose_level     0.005323\n",
            "\n",
            "Accuracy: 0.7279843444227005\n",
            "\n",
            "Confusion Matrix:\n",
            " [[696 264]\n",
            " [ 14  48]]\n",
            "\n",
            "Classification report:\n",
            "               precision    recall  f1-score   support\n",
            "\n",
            "           0       0.98      0.72      0.83       960\n",
            "           1       0.15      0.77      0.26        62\n",
            "\n",
            "    accuracy                           0.73      1022\n",
            "   macro avg       0.57      0.75      0.55      1022\n",
            "weighted avg       0.93      0.73      0.80      1022\n",
            "\n"
          ]
        }
      ]
    },
    {
      "cell_type": "markdown",
      "source": [
        "**Insight**\n",
        "\n",
        "- After adjusting for age and glucose level, we can see that having high BMI (BMI > 30) showed a slightly negative effect on stroke risk (coefficient = -0.077). Maybe it happend because BMI’s influence is already explained through stronger correlated factors such as age and blood sugar.\n",
        "\n",
        "In contrast:\n",
        "- Age had a strong positive effect (+0.074),\n",
        "- Glucose level had a smaller positive effect (+0.0053).\n",
        "\n",
        "The model achieved 72.8% accuracy, with high performance on non-stroke cases. However, weak stroke detection (precision = 15%) due to class imbalance.\n",
        "\n",
        "This result suggests that in this dataset, age and glucose are more significant causal contributors to stroke than BMI.\n",
        "\n",
        "While BMI remains important facetor but effective prevention may rely more on glucose management and age-targeted interventions in similar populations."
      ],
      "metadata": {
        "id": "48_fpUo8rHUR"
      }
    },
    {
      "cell_type": "markdown",
      "source": [
        "##**DSQ-8: Can stroke patients be clustered into meaningful groups based on lifestyle and health factors?**\n",
        "\n",
        "- Type: Exploratory Analysis\n",
        "\n",
        "- Variables Used:\n",
        "    - Health: age, bmi, avg_glucose_level, hypertension, heart_disease\n",
        "    - Lifestyle: work_type, smoking_status, ever_married\n",
        "    - Target/Filter: Only records where stroke == 1\n",
        "\n",
        "Purpose: Identify the subgroups of stroke patients using clustering."
      ],
      "metadata": {
        "id": "vg_YCgpxmysK"
      }
    },
    {
      "cell_type": "code",
      "source": [
        "# Filter only the stroke patients\n",
        "stroke_df = df[df['stroke'] == 1].copy()\n",
        "\n",
        "# Fill missing BMI with median\n",
        "stroke_df['bmi'] = stroke_df['bmi'].fillna(stroke_df['bmi'].median())\n",
        "\n",
        "# Select features for clustering\n",
        "features = stroke_df[['age', 'bmi', 'avg_glucose_level', 'hypertension', 'heart_disease',\n",
        "                      'work_type', 'smoking_status', 'ever_married']]\n",
        "\n",
        "# encode categorical variables\n",
        "features_encoded = pd.get_dummies(features, drop_first=True)\n",
        "\n",
        "# Scale the features\n",
        "from sklearn.preprocessing import StandardScaler\n",
        "scaler = StandardScaler()\n",
        "X_scaled = scaler.fit_transform(features_encoded)\n",
        "\n",
        "# KMeans clustering\n",
        "from sklearn.cluster import KMeans\n",
        "kmeans = KMeans(n_clusters=3, random_state=42)\n",
        "stroke_df['Cluster'] = kmeans.fit_predict(X_scaled)\n",
        "\n",
        "# Analyze cluster means\n",
        "cluster_summary = stroke_df.groupby('Cluster').mean(numeric_only=True)\n",
        "print(cluster_summary)\n",
        "\n",
        "# Visualize clusters\n",
        "import seaborn as sns\n",
        "import matplotlib.pyplot as plt\n",
        "sns.scatterplot(data=stroke_df, x='age', y='avg_glucose_level', hue='Cluster', palette='Set2')\n",
        "plt.title('Stroke Patient Clusters by Age and Glucose Level')\n",
        "plt.show()\n"
      ],
      "metadata": {
        "colab": {
          "base_uri": "https://localhost:8080/",
          "height": 663
        },
        "id": "jLZrbYy5s8za",
        "outputId": "42f1fbe2-f947-42c4-9aaf-a27e28e90a0c"
      },
      "execution_count": 25,
      "outputs": [
        {
          "output_type": "stream",
          "name": "stdout",
          "text": [
            "               age  hypertension  heart_disease  avg_glucose_level        bmi  \\\n",
            "Cluster                                                                         \n",
            "0        71.238806      0.402985       0.134328         118.784925  29.305970   \n",
            "1        62.043636      0.090909       0.010101         110.999697  29.553535   \n",
            "2        71.674699      0.361446       0.445783         169.350361  31.363855   \n",
            "\n",
            "         stroke  high_bmi  \n",
            "Cluster                    \n",
            "0           1.0  0.358209  \n",
            "1           1.0  0.323232  \n",
            "2           1.0  0.481928  \n"
          ]
        },
        {
          "output_type": "display_data",
          "data": {
            "text/plain": [
              "<Figure size 640x480 with 1 Axes>"
            ],
            "image/png": "[encoded data removed]"
          },
          "metadata": {}
        }
      ]
    },
    {
      "cell_type": "markdown",
      "source": [
        "**Insight: Clustering Stroke Patients**\n",
        "\n",
        "Using KMeans clustering, we identified 3 different stroke patient groups based on health and lifestyle variables (age, BMI, glucose, hypertension, heart disease, etc.).\n",
        "\n",
        "**Key Cluster Profiles:**\n",
        "- Cluster 0: Older adults (around 71 yrs), moderate glucose (~118), moderate risk.\n",
        "- Cluster 1: Younger (around 62 yrs), low glucose (~111), low risk, minimal heart disease.\n",
        "- Cluster 2: Oldest (around 72 yrs), very high glucose (~169), high heart disease (45%), highest risk.\n",
        "\n",
        "**Observation:**\n",
        "- Age and glucose are the most visible factors separating the groups in the scatter plot.\n",
        "- Cluster 2 showed as the **highest-risk group** due to combined effects of age, glucose, heart disease, and obesity.\n",
        "\n",
        "These clusters highlight the need for **custom treatment strategies** based on patient profile rather than a one-size-fits-all approach.\n"
      ],
      "metadata": {
        "id": "oeb95J2Jt7DW"
      }
    }
  ]
}